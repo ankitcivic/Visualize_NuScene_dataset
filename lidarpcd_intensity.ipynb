{
 "cells": [
  {
   "cell_type": "code",
   "execution_count": 7,
   "id": "spectacular-dress",
   "metadata": {},
   "outputs": [
    {
     "name": "stdout",
     "output_type": "stream",
     "text": [
      "pcd being displayed is n015-2018-11-21-19-38-26+0800__LIDAR_TOP__1542800859947349.pcd.bin\n"
     ]
    }
   ],
   "source": [
    "#Visualizing Lidar PCD and colorize points by intensity\n",
    "\n",
    "import open3d as o3d\n",
    "import numpy as np\n",
    "import random, os\n",
    "\n",
    "#defining path of pcd\n",
    "path = r\"/home/ankit/Perception/HW1/data/sets/nuscenes/samples/LIDAR_TOP/\"\n",
    "\n",
    "#selecting a random file\n",
    "random_file = random.choice([\n",
    "    x for x in os.listdir(path)\n",
    "    if os.path.isfile(os.path.join(path, x))\n",
    "])\n",
    "\n",
    "random_selected_file = (os.path.join(path, random_file)) \n",
    "\n",
    "#printing random file name\n",
    "print('pcd being displayed is', random_file)\n",
    "\n",
    "pcd_name=random_selected_file\n",
    "scan=np.fromfile(pcd_name, dtype=np.float32)\n",
    "points = scan.reshape((-1, 5))[:, :4]\n",
    "\n",
    "height=points[:,2]\n",
    "intensity=points[:,3]\n",
    "\n",
    "color = np.zeros([len(intensity), 3])\n",
    "color[:, 0] = intensity/32\n",
    "color[:, 1] = 0.5\n",
    "color[:, 2] = 0.5\n",
    "\n",
    "pcd = o3d.geometry.PointCloud()\n",
    "pcd.points = o3d.utility.Vector3dVector(points[:, :3])\n",
    "pcd.colors = o3d.utility.Vector3dVector(color)\n",
    "\n",
    "o3d.visualization.draw_geometries([pcd])"
   ]
  },
  {
   "cell_type": "code",
   "execution_count": null,
   "id": "solved-america",
   "metadata": {},
   "outputs": [],
   "source": []
  }
 ],
 "metadata": {
  "kernelspec": {
   "display_name": "Python 3",
   "language": "python",
   "name": "python3"
  },
  "language_info": {
   "codemirror_mode": {
    "name": "ipython",
    "version": 3
   },
   "file_extension": ".py",
   "mimetype": "text/x-python",
   "name": "python",
   "nbconvert_exporter": "python",
   "pygments_lexer": "ipython3",
   "version": "3.6.9"
  }
 },
 "nbformat": 4,
 "nbformat_minor": 5
}
