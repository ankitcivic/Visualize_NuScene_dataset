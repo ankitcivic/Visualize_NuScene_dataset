{
 "cells": [
  {
   "cell_type": "code",
   "execution_count": null,
   "id": "drawn-surprise",
   "metadata": {},
   "outputs": [],
   "source": [
    "#Visualizing Lidar PCD and colorize points by semantic label\n",
    "\n",
    "import open3d as o3d\n",
    "import numpy as np\n",
    "import random, os\n",
    "\n",
    "seg_name='/home/ankit/Perception/HW1/data/sets/nuscenes/lidarseg/v1.0-mini/4484110755904050a880043268149497_lidarseg.bin'\n",
    "seg=np.fromfile(seg_name, dtype=np.uint8)\n",
    "\n",
    "\n",
    "color = np.zeros([len(seg), 3])\n",
    "color[:, 0] = seg/32\n",
    "color[:, 1] = 0.5\n",
    "color[:, 2] = 0.5\n",
    "\n",
    "#defining path of pcd\n",
    "path = r\"/home/ankit/Perception/HW1/data/sets/nuscenes/samples/LIDAR_TOP/n008-2018-08-28-16-43-51-0400__LIDAR_TOP__1535489296047917.pcd.bin\"\n",
    "scan=np.fromfile(path, dtype=np.float32)\n",
    "\n",
    "print(scan.shape)\n",
    "points = scan.reshape((-1, 5))[:, :4]\n",
    "print(points.shape)\n",
    "\n",
    "height=points[:,2]\n",
    "intensity=points[:,3]\n",
    "\n",
    "pcd = o3d.geometry.PointCloud()\n",
    "pcd.points = o3d.utility.Vector3dVector(points[:, :3])\n",
    "pcd.colors = o3d.utility.Vector3dVector(color)\n",
    "\n",
    "o3d.visualization.draw_geometries([pcd])"
   ]
  },
  {
   "cell_type": "code",
   "execution_count": null,
   "id": "based-discretion",
   "metadata": {},
   "outputs": [],
   "source": []
  }
 ],
 "metadata": {
  "kernelspec": {
   "display_name": "Python 3",
   "language": "python",
   "name": "python3"
  },
  "language_info": {
   "codemirror_mode": {
    "name": "ipython",
    "version": 3
   },
   "file_extension": ".py",
   "mimetype": "text/x-python",
   "name": "python",
   "nbconvert_exporter": "python",
   "pygments_lexer": "ipython3",
   "version": "3.6.9"
  }
 },
 "nbformat": 4,
 "nbformat_minor": 5
}
